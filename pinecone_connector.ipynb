{
  "cells": [
    {
      "cell_type": "code",
      "execution_count": null,
      "metadata": {
        "colab": {
          "base_uri": "https://localhost:8080/"
        },
        "id": "qI6RkM1Eyo0T",
        "outputId": "29f16e87-1d3c-4b2f-c381-1fa5a6629998"
      },
      "outputs": [
        {
          "name": "stdout",
          "output_type": "stream",
          "text": [
            "\u001b[?25l   \u001b[90m━━━━━━━━━━━━━━━━━━━━━━━━━━━━━━━━━━━━━━━━\u001b[0m \u001b[32m0.0/567.4 kB\u001b[0m \u001b[31m?\u001b[0m eta \u001b[36m-:--:--\u001b[0m\r\u001b[2K   \u001b[91m━━━━━━━━━━━━━━━━━━━━━━━━━━━━━━━━━━━━━━━\u001b[0m\u001b[91m╸\u001b[0m \u001b[32m563.2/567.4 kB\u001b[0m \u001b[31m18.4 MB/s\u001b[0m eta \u001b[36m0:00:01\u001b[0m\r\u001b[2K   \u001b[90m━━━━━━━━━━━━━━━━━━━━━━━━━━━━━━━━━━━━━━━━\u001b[0m \u001b[32m567.4/567.4 kB\u001b[0m \u001b[31m12.4 MB/s\u001b[0m eta \u001b[36m0:00:00\u001b[0m\n",
            "\u001b[2K   \u001b[90m━━━━━━━━━━━━━━━━━━━━━━━━━━━━━━━━━━━━━━━━\u001b[0m \u001b[32m302.0/302.0 kB\u001b[0m \u001b[31m20.9 MB/s\u001b[0m eta \u001b[36m0:00:00\u001b[0m\n",
            "\u001b[2K   \u001b[90m━━━━━━━━━━━━━━━━━━━━━━━━━━━━━━━━━━━━━━━━\u001b[0m \u001b[32m2.5/2.5 MB\u001b[0m \u001b[31m51.5 MB/s\u001b[0m eta \u001b[36m0:00:00\u001b[0m\n",
            "\u001b[2K   \u001b[90m━━━━━━━━━━━━━━━━━━━━━━━━━━━━━━━━━━━━━━━━\u001b[0m \u001b[32m55.4/55.4 kB\u001b[0m \u001b[31m3.8 MB/s\u001b[0m eta \u001b[36m0:00:00\u001b[0m\n",
            "\u001b[2K   \u001b[90m━━━━━━━━━━━━━━━━━━━━━━━━━━━━━━━━━━━━━━━━\u001b[0m \u001b[32m1.3/1.3 MB\u001b[0m \u001b[31m55.6 MB/s\u001b[0m eta \u001b[36m0:00:00\u001b[0m\n",
            "\u001b[2K   \u001b[90m━━━━━━━━━━━━━━━━━━━━━━━━━━━━━━━━━━━━━━━━\u001b[0m \u001b[32m427.3/427.3 kB\u001b[0m \u001b[31m25.1 MB/s\u001b[0m eta \u001b[36m0:00:00\u001b[0m\n",
            "\u001b[2K   \u001b[90m━━━━━━━━━━━━━━━━━━━━━━━━━━━━━━━━━━━━━━━━\u001b[0m \u001b[32m1.2/1.2 MB\u001b[0m \u001b[31m54.1 MB/s\u001b[0m eta \u001b[36m0:00:00\u001b[0m\n",
            "\u001b[2K   \u001b[90m━━━━━━━━━━━━━━━━━━━━━━━━━━━━━━━━━━━━━━━━\u001b[0m \u001b[32m50.9/50.9 kB\u001b[0m \u001b[31m3.8 MB/s\u001b[0m eta \u001b[36m0:00:00\u001b[0m\n",
            "\u001b[2K   \u001b[90m━━━━━━━━━━━━━━━━━━━━━━━━━━━━━━━━━━━━━━━━\u001b[0m \u001b[32m87.5/87.5 kB\u001b[0m \u001b[31m6.7 MB/s\u001b[0m eta \u001b[36m0:00:00\u001b[0m\n",
            "\u001b[2K   \u001b[90m━━━━━━━━━━━━━━━━━━━━━━━━━━━━━━━━━━━━━━━━\u001b[0m \u001b[32m52.0/52.0 kB\u001b[0m \u001b[31m3.9 MB/s\u001b[0m eta \u001b[36m0:00:00\u001b[0m\n",
            "\u001b[?25h"
          ]
        }
      ],
      "source": [
        "!pip install pinecone-client openai pypdf langchain langchain-community langchain-openai langchain-pinecone -qU pinecone-notebooks"
      ]
    },
    {
      "cell_type": "code",
      "execution_count": null,
      "metadata": {
        "colab": {
          "base_uri": "https://localhost:8080/"
        },
        "id": "COXbnlW0xh_n",
        "outputId": "313dc9e5-9871-4f1d-f315-17f68f4ddd54"
      },
      "outputs": [
        {
          "name": "stdout",
          "output_type": "stream",
          "text": [
            "Mounted at /content/drive\n"
          ]
        }
      ],
      "source": [
        "from google.colab import drive\n",
        "drive.mount('/content/drive')"
      ]
    },
    {
      "cell_type": "code",
      "execution_count": null,
      "metadata": {
        "id": "R9MwFpauy0hI"
      },
      "outputs": [],
      "source": [
        "from langchain.document_loaders import PyPDFLoader\n",
        "from langchain.text_splitter import RecursiveCharacterTextSplitter\n",
        "from langchain.embeddings import OpenAIEmbeddings\n",
        "from langchain.vectorstores import Pinecone\n",
        "from langchain_pinecone import PineconeVectorStore, PineconeEmbeddings\n",
        "import pinecone\n",
        "import os\n",
        "import getpass\n",
        "import time\n",
        "from pinecone import Pinecone, ServerlessSpec\n",
        "from langchain_core.documents import Document\n",
        "from uuid import uuid4"
      ]
    },
    {
      "cell_type": "markdown",
      "metadata": {
        "id": "m_An_cN6y0Jl"
      },
      "source": [
        "## Setup Pinecone"
      ]
    },
    {
      "cell_type": "code",
      "execution_count": null,
      "metadata": {
        "id": "7mVzQ9QczB4_"
      },
      "outputs": [],
      "source": [
        "pinecone_api = \"pinecone_token\""
      ]
    },
    {
      "cell_type": "code",
      "execution_count": null,
      "metadata": {
        "id": "sq-iqe7XzJ5f"
      },
      "outputs": [],
      "source": [
        "pc = Pinecone(api_key=pinecone_api)\n",
        "spec = ServerlessSpec(cloud=\"aws\", region=\"us-east-1\")"
      ]
    },
    {
      "cell_type": "code",
      "execution_count": null,
      "metadata": {
        "id": "UdLe4GTDyMGK"
      },
      "outputs": [],
      "source": [
        "model_name = 'multilingual-e5-large'\n",
        "embeddings = PineconeEmbeddings(\n",
        "    model=model_name,\n",
        "    pinecone_api_key=pinecone_api)"
      ]
    },
    {
      "cell_type": "code",
      "execution_count": null,
      "metadata": {
        "id": "rBFJb2eoyHUo"
      },
      "outputs": [],
      "source": [
        "index_name = \"coral-x\""
      ]
    },
    {
      "cell_type": "code",
      "execution_count": null,
      "metadata": {
        "id": "MxugWWSEyFj0"
      },
      "outputs": [],
      "source": [
        "if index_name not in pc.list_indexes().names():\n",
        "    pc.create_index(\n",
        "        name=index_name,\n",
        "        dimension=embeddings.dimension,\n",
        "        metric=\"cosine\",\n",
        "        spec=spec\n",
        "    )\n",
        "    # Wait for index to be ready\n",
        "    while not pc.describe_index(index_name).status['ready']:\n",
        "        time.sleep(1)"
      ]
    },
    {
      "cell_type": "code",
      "execution_count": null,
      "metadata": {
        "colab": {
          "base_uri": "https://localhost:8080/"
        },
        "id": "_cE_NuQxzQNB",
        "outputId": "3f63dffc-2328-4e22-bdf8-7e8cfa836a52"
      },
      "outputs": [
        {
          "name": "stdout",
          "output_type": "stream",
          "text": [
            "Successfully connected to Pinecone.\n",
            "Existing indexes: [{\n",
            "    \"name\": \"coral-x\",\n",
            "    \"dimension\": 1024,\n",
            "    \"metric\": \"cosine\",\n",
            "    \"host\": \"coral-x-w1xpav1.svc.aped-4627-b74a.pinecone.io\",\n",
            "    \"spec\": {\n",
            "        \"serverless\": {\n",
            "            \"cloud\": \"aws\",\n",
            "            \"region\": \"us-east-1\"\n",
            "        }\n",
            "    },\n",
            "    \"status\": {\n",
            "        \"ready\": true,\n",
            "        \"state\": \"Ready\"\n",
            "    },\n",
            "    \"deletion_protection\": \"disabled\"\n",
            "}, {\n",
            "    \"name\": \"rag-test\",\n",
            "    \"dimension\": 1024,\n",
            "    \"metric\": \"cosine\",\n",
            "    \"host\": \"rag-test-w1xpav1.svc.aped-4627-b74a.pinecone.io\",\n",
            "    \"spec\": {\n",
            "        \"serverless\": {\n",
            "            \"cloud\": \"aws\",\n",
            "            \"region\": \"us-east-1\"\n",
            "        }\n",
            "    },\n",
            "    \"status\": {\n",
            "        \"ready\": true,\n",
            "        \"state\": \"Ready\"\n",
            "    },\n",
            "    \"deletion_protection\": \"disabled\"\n",
            "}]\n"
          ]
        }
      ],
      "source": [
        "try:\n",
        "    indexes = pc.list_indexes()\n",
        "    print(\"Successfully connected to Pinecone.\")\n",
        "    print(\"Existing indexes:\", indexes)\n",
        "except Exception as e:\n",
        "    print(f\"Failed to connect to Pinecone: {e}\")"
      ]
    },
    {
      "cell_type": "code",
      "execution_count": null,
      "metadata": {
        "colab": {
          "base_uri": "https://localhost:8080/"
        },
        "id": "d6NYDb763pIX",
        "outputId": "564cbd5a-d07e-4463-98d1-62a01fc1bdf9"
      },
      "outputs": [
        {
          "data": {
            "text/plain": [
              "{\n",
              "    \"name\": \"coral-x\",\n",
              "    \"dimension\": 1024,\n",
              "    \"metric\": \"cosine\",\n",
              "    \"host\": \"coral-x-w1xpav1.svc.aped-4627-b74a.pinecone.io\",\n",
              "    \"spec\": {\n",
              "        \"serverless\": {\n",
              "            \"cloud\": \"aws\",\n",
              "            \"region\": \"us-east-1\"\n",
              "        }\n",
              "    },\n",
              "    \"status\": {\n",
              "        \"ready\": true,\n",
              "        \"state\": \"Ready\"\n",
              "    },\n",
              "    \"deletion_protection\": \"disabled\"\n",
              "}"
            ]
          },
          "execution_count": 10,
          "metadata": {},
          "output_type": "execute_result"
        }
      ],
      "source": [
        "pc.describe_index(index_name)"
      ]
    },
    {
      "cell_type": "code",
      "execution_count": null,
      "metadata": {
        "colab": {
          "base_uri": "https://localhost:8080/"
        },
        "id": "hR5H75kMM_go",
        "outputId": "e0f528c7-104e-425e-9efd-4a28d14bf7dd"
      },
      "outputs": [
        {
          "data": {
            "text/plain": [
              "{'dimension': 1024,\n",
              " 'index_fullness': 0.0,\n",
              " 'namespaces': {'data-context-docs': {'vector_count': 18},\n",
              "                'global-context-docs': {'vector_count': 302}},\n",
              " 'total_vector_count': 320}"
            ]
          },
          "execution_count": 11,
          "metadata": {},
          "output_type": "execute_result"
        }
      ],
      "source": [
        "index = pc.Index(index_name)\n",
        "index.describe_index_stats()"
      ]
    },
    {
      "cell_type": "code",
      "execution_count": null,
      "metadata": {
        "colab": {
          "base_uri": "https://localhost:8080/"
        },
        "id": "SFy91BbsLXsd",
        "outputId": "599da2cc-1a5f-4cb4-a474-ac7bb439a674"
      },
      "outputs": [
        {
          "data": {
            "text/plain": [
              "{}"
            ]
          },
          "execution_count": 13,
          "metadata": {},
          "output_type": "execute_result"
        }
      ],
      "source": [
        "index.delete(delete_all=True, namespace='global-context-docs')"
      ]
    },
    {
      "cell_type": "code",
      "execution_count": null,
      "metadata": {
        "colab": {
          "base_uri": "https://localhost:8080/"
        },
        "id": "M51WZchQLmOC",
        "outputId": "e03006dd-cacf-4b09-a2bb-5ed3c6f580fb"
      },
      "outputs": [
        {
          "data": {
            "text/plain": [
              "{'dimension': 1024,\n",
              " 'index_fullness': 0.0,\n",
              " 'namespaces': {'data-context-docs': {'vector_count': 18}},\n",
              " 'total_vector_count': 18}"
            ]
          },
          "execution_count": 14,
          "metadata": {},
          "output_type": "execute_result"
        }
      ],
      "source": [
        "index.describe_index_stats()"
      ]
    },
    {
      "cell_type": "markdown",
      "metadata": {
        "id": "LUOrlSTqyv-X"
      },
      "source": [
        "## Add data context docs"
      ]
    },
    {
      "cell_type": "code",
      "execution_count": null,
      "metadata": {
        "id": "jmbde14Lyxy8"
      },
      "outputs": [],
      "source": [
        "namespace = \"data-context-docs\""
      ]
    },
    {
      "cell_type": "code",
      "execution_count": null,
      "metadata": {
        "id": "dD4XBei9y-tv"
      },
      "outputs": [],
      "source": [
        "vector_store = PineconeVectorStore(index = index, embedding = embeddings)"
      ]
    },
    {
      "cell_type": "code",
      "execution_count": null,
      "metadata": {
        "colab": {
          "base_uri": "https://localhost:8080/"
        },
        "id": "9Vfx3jqozKWV",
        "outputId": "442000d0-9b0a-4337-b37d-96bb49074aed"
      },
      "outputs": [
        {
          "data": {
            "text/plain": [
              "['state_stats.txt', 'purpose_wise_stats.txt', 'data_dict.txt']"
            ]
          },
          "execution_count": 23,
          "metadata": {},
          "output_type": "execute_result"
        }
      ],
      "source": [
        "path = \"/content/drive/MyDrive/Capstone/rag_docs/data_context_docs\"\n",
        "files = os.listdir(path)\n",
        "files"
      ]
    },
    {
      "cell_type": "code",
      "execution_count": null,
      "metadata": {
        "colab": {
          "base_uri": "https://localhost:8080/"
        },
        "id": "NM08MP90zU27",
        "outputId": "4e4e9aa5-3343-4a1f-81c2-a5a9ff9ffbae"
      },
      "outputs": [
        {
          "name": "stdout",
          "output_type": "stream",
          "text": [
            "state_stats.txt read successfully.\n",
            "The following lines contain information about the median annual income, median loan amounts, median debt-to-income ratio and default rates for states in USA:\n",
            "For the state of Alaska, the median annual income is $72000.0, the median loan amount is $15850.0, the median debt-to-income ratio is 18.395, and the loan default rate is 13.18%.\n",
            "For the state of Alabama, the median annual income is $60441.520000000004, the median loan amount is $12150.0, the median debt-to-income ratio is 19.99, and the loan default rate is 15.76%.\n",
            "For the state of Arkansas, the median annual income is $57000.0, the median loan amount is $12000.0, the median debt-to-income ratio is 20.19, and the loan default rate is 15.46%.\n",
            "For the state of Arizona, the median annual income is $62000.0, the median loan amount is $12000.0, the median debt-to-income ratio is 17.97, and the loan default rate is 13.02%.\n",
            "For the state of California, the median annual income is $70000.0, the median loan amount is $13000.0, the median debt-to-income ratio is 16.11, and the loan default rate is 13.42%.\n",
            "For the state of Colorado, the median annual income is $65000.0, the median loan amount is $13000.0, the median debt-to-income ratio is 17.69, and the loan default rate is 10.45%.\n",
            "For the state of Connecticut, the median annual income is $70000.0, the median loan amount is $13000.0, the median debt-to-income ratio is 16.74, and the loan default rate is 10.71%.\n",
            "For the state of District of Columbia, the median annual income is $82000.0, the median loan amount is $14087.5, the median debt-to-income ratio is 14.78, and the loan default rate is 9.47%.\n",
            "For the state of Delaware, the median annual income is $65000.0, the median loan amount is $12500.0, the median debt-to-income ratio is 18.67, and the loan default rate is 12.57%.\n",
            "For the state of Florida, the median annual income is $60000.0, the median loan amount is $12000.0, the median debt-to-income ratio is 18.07, and the loan default rate is 14.04%.\n",
            "For the state of Georgia, the median annual income is $65000.0, the median loan amount is $13250.0, the median debt-to-income ratio is 18.49, and the loan default rate is 11.88%.\n",
            "For the state of Hawaii, the median annual income is $65000.0, the median loan amount is $14400.0, the median debt-to-income ratio is 18.83, and the loan default rate is 13.96%.\n",
            "For the state of Iowa, the median annual income is $45000.0, the median loan amount is $7200.0, the median debt-to-income ratio is 16.49, and the loan default rate is 14.29%.\n",
            "For the state of Idaho, the median annual income is $55000.0, the median loan amount is $12000.0, the median debt-to-income ratio is 19.14, and the loan default rate is 8.59%.\n",
            "For the state of Illinois, the median annual income is $68000.0, the median loan amount is $14000.0, the median debt-to-income ratio is 17.7, and the loan default rate is 11.21%.\n",
            "For the state of Indiana, the median annual income is $60000.0, the median loan amount is $12100.0, the median debt-to-income ratio is 19.31, and the loan default rate is 13.48%.\n",
            "For the state of Kansas, the median annual income is $60000.0, the median loan amount is $12750.0, the median debt-to-income ratio is 19.47, and the loan default rate is 10.73%.\n",
            "For the state of Kentucky, the median annual income is $60000.0, the median loan amount is $12000.0, the median debt-to-income ratio is 19.295, and the loan default rate is 13.38%.\n",
            "For the state of Louisiana, the median annual income is $65000.0, the median loan amount is $12700.0, the median debt-to-income ratio is 19.1, and the loan default rate is 15.17%.\n",
            "For the state of Massachusetts, the median annual income is $70000.0, the median loan amount is $14000.0, the median debt-to-income ratio is 16.31, and the loan default rate is 12.5%.\n",
            "For the state of Maryland, the median annual income is $75000.0, the median loan amount is $14400.0, the median debt-to-income ratio is 17.4, and the loan default rate is 13.71%.\n",
            "For the state of Maine, the median annual income is $59860.0, the median loan amount is $12000.0, the median debt-to-income ratio is 19.884999999999998, and the loan default rate is 6.45%.\n",
            "For the state of Michigan, the median annual income is $60522.0, the median loan amount is $12000.0, the median debt-to-income ratio is 18.41, and the loan default rate is 13.25%.\n",
            "For the state of Minnesota, the median annual income is $62000.0, the median loan amount is $12000.0, the median debt-to-income ratio is 18.37, and the loan default rate is 13.03%.\n",
            "For the state of Missouri, the median annual income is $60000.0, the median loan amount is $12000.0, the median debt-to-income ratio is 19.15, and the loan default rate is 13.76%.\n",
            "For the state of Mississippi, the median annual income is $60000.0, the median loan amount is $12000.0, the median debt-to-income ratio is 20.15, and the loan default rate is 15.49%.\n",
            "For the state of Montana, the median annual income is $55000.0, the median loan amount is $12000.0, the median debt-to-income ratio is 19.37, and the loan default rate is 11.1%.\n",
            "For the state of North Carolina, the median annual income is $60500.0, the median loan amount is $12500.0, the median debt-to-income ratio is 18.52, and the loan default rate is 13.72%.\n",
            "For the state of North Dakota, the median annual income is $60000.0, the median loan amount is $14000.0, the median debt-to-income ratio is 20.14, and the loan default rate is 10.55%.\n",
            "For the state of Nebraska, the median annual income is $55612.0, the median loan amount is $12000.0, the median debt-to-income ratio is 19.365000000000002, and the loan default rate is 12.88%.\n",
            "For the state of New Hampshire, the median annual income is $66000.0, the median loan amount is $12800.0, the median debt-to-income ratio is 18.59, and the loan default rate is 9.51%.\n",
            "For the state of New Jersey, the median annual income is $74500.0, the median loan amount is $14300.0, the median debt-to-income ratio is 16.35, and the loan default rate is 13.46%.\n",
            "For the state of New Mexico, the median annual income is $62000.0, the median loan amount is $12850.0, the median debt-to-income ratio is 19.95, and the loan default rate is 14.25%.\n",
            "For the state of Nevada, the median annual income is $62000.0, the median loan amount is $12000.0, the median debt-to-income ratio is 18.1, and the loan default rate is 14.65%.\n",
            "For the state of New York, the median annual income is $66000.0, the median loan amount is $12300.0, the median debt-to-income ratio is 15.81, and the loan default rate is 14.33%.\n",
            "For the state of Ohio, the median annual income is $60000.0, the median loan amount is $12000.0, the median debt-to-income ratio is 19.42, and the loan default rate is 12.87%.\n",
            "For the state of Oklahoma, the median annual income is $62000.0, the median loan amount is $13000.0, the median debt-to-income ratio is 19.54, and the loan default rate is 15.23%.\n",
            "For the state of Oregon, the median annual income is $60000.0, the median loan amount is $12000.0, the median debt-to-income ratio is 17.36, and the loan default rate is 9.66%.\n",
            "For the state of Pennsylvania, the median annual income is $62499.0, the median loan amount is $12125.0, the median debt-to-income ratio is 18.87, and the loan default rate is 13.46%.\n",
            "For the state of Rhode Island, the median annual income is $65000.0, the median loan amount is $12000.0, the median debt-to-income ratio is 16.91, and the loan default rate is 11.56%.\n",
            "For the state of South Carolina, the median annual income is $60500.0, the median loan amount is $12800.0, the median debt-to-income ratio is 19.2, and the loan default rate is 10.32%.\n",
            "For the state of South Dakota, the median annual income is $54000.0, the median loan amount is $12000.0, the median debt-to-income ratio is 20.71, and the loan default rate is 13.95%.\n",
            "For the state of Tennessee, the median annual income is $60000.0, the median loan amount is $12050.0, the median debt-to-income ratio is 19.62, and the loan default rate is 13.41%.\n",
            "For the state of Texas, the median annual income is $70000.0, the median loan amount is $14000.0, the median debt-to-income ratio is 18.92, and the loan default rate is 12.92%.\n",
            "For the state of Utah, the median annual income is $63000.0, the median loan amount is $13000.0, the median debt-to-income ratio is 18.43, and the loan default rate is 12.41%.\n",
            "For the state of Virginia, the median annual income is $72000.0, the median loan amount is $14675.0, the median debt-to-income ratio is 18.09, and the loan default rate is 13.24%.\n",
            "For the state of Vermont, the median annual income is $58955.0, the median loan amount is $12000.0, the median debt-to-income ratio is 19.88, and the loan default rate is 8.43%.\n",
            "For the state of Washington, the median annual income is $66500.0, the median loan amount is $13800.0, the median debt-to-income ratio is 17.66, and the loan default rate is 10.73%.\n",
            "For the state of Wisconsin, the median annual income is $60000.0, the median loan amount is $12000.0, the median debt-to-income ratio is 18.98, and the loan default rate is 12.2%.\n",
            "For the state of West Virginia, the median annual income is $60000.0, the median loan amount is $13000.0, the median debt-to-income ratio is 19.81, and the loan default rate is 9.65%.\n",
            "For the state of Wyoming, the median annual income is $65000.0, the median loan amount is $14400.0, the median debt-to-income ratio is 20.23, and the loan default rate is 11.19%.\n",
            "Proceeding to chunk\n",
            "Document chunked successfully\n",
            "\n",
            "Chunks uploaded to vector store\n",
            "\n",
            "purpose_wise_stats.txt read successfully.\n",
            "For all loans, the default rate is 13.04%. The following lines include the loan default rates amongst loans taken for various purposes:\n",
            "For car purposes, the default rate is 9.87%\n",
            "For credit card purposes, the default rate is 10.61%\n",
            "For debt consolidation purposes, the default rate is 14.1%\n",
            "For educational purposes, the default rate is 17.13%\n",
            "For home improvement purposes, the default rate is 11.49%\n",
            "For house purposes, the default rate is 12.89%\n",
            "For major purchase purposes, the default rate is 12.22%\n",
            "For medical purposes, the default rate is 13.6%\n",
            "For moving purposes, the default rate is 15.86%\n",
            "For other purposes, the default rate is 13.16%\n",
            "For renewable energy purposes, the default rate is 16.57%\n",
            "For small business purposes, the default rate is 20.34%\n",
            "For vacation purposes, the default rate is 12.41%\n",
            "For wedding purposes, the default rate is 12.14%\n",
            "Proceeding to chunk\n",
            "Document chunked successfully\n",
            "\n",
            "Chunks uploaded to vector store\n",
            "\n",
            "data_dict.txt read successfully.\n",
            "The following lines include the features present to make a decision whether the borrower will make good on the loan or default. For each feature it's identifier name in the dataset, description and type of values are mentioned. Certain features also have percentile information available:\n",
            "loan_amnt: Loan amount applied for by borrower (in $). Numerical values. The percentiles are as follows: the 25th percentile is 8000.0, the 50th percentile is 12950.0, the 75th percentile is 20000.0\n",
            "int_rate: Estimated interest rate on loan (%). Numerical values. The percentiles are as follows: the 25th percentile is 9.49, the 50th percentile is 12.62, the 75th percentile is 15.99\n",
            "installment: Monthly installments owed (in $). Numerical values. The percentiles are as follows: the 25th percentile is 251.77, the 50th percentile is 378.2, the 75th percentile is 593.49\n",
            "grade: Estimated loan grade (A,B,C...) where higher grade (e.g. A) indicates less risk, whereas a lower grade (e.g. D) indicates higher risk. Ordinal categorical values.\n",
            "sub_grade: Estimated loan sub-grade. Ordinal categorical values.\n",
            "emp_length: Employment length of borrower, in years. Numerical values. The percentiles are as follows: the 25th percentile is 2.0, the 50th percentile is 5.0, the 75th percentile is 10.0\n",
            "home_ownership: Home ownership status of borrower. Categorical values.\n",
            "annual_inc: Annual income of borrower (in $). Numerical values. The percentiles are as follows: the 25th percentile is 46000.0, the 50th percentile is 65000.0, the 75th percentile is 93000.0\n",
            "verification_status: Income verification status. Categorical values.\n",
            "purpose: Category provided by borrower for the loan request. Categorical values.\n",
            "title: Loan title provided by the borrower. Categorical values.\n",
            "addr_state: Residence state of borrower. Categorical values.\n",
            "dti: Monthly debt-to-income ratio of borrower. Ratio values. The percentiles are as follows: the 25th percentile is 11.9, the 50th percentile is 17.84, the 75th percentile is 24.5\n",
            "open_acc: Number of borrower's open credit lines. Numerical values.\n",
            "pub_rec: Number of borrower's derogatory public records. Numerical values.\n",
            "revol_bal: Total credit revolving balance of borrower. Numerical values. The percentiles are as follows: the 25th percentile is 5954.5, the 50th percentile is 11327.0, the 75th percentile is 20245.0\n",
            "revol_util: Revolving line utilization rate of borrower (in %). Numerical values. The percentiles are as follows: the 25th percentile is 31.5, the 50th percentile is 50.3, the 75th percentile is 69.3\n",
            "total_acc: Total number of borrower's credit lines. Numerical values. The percentiles are as follows: the 25th percentile is 15.0, the 50th percentile is 22.0, the 75th percentile is 31.0\n",
            "initial_list_status: Initial listing status of loan. Categorical values.\n",
            "application_type: Individual or joint application. Categorical values.\n",
            "mort_acc: Number of mortgage accounts of borrower. Numerical values.\n",
            "pub_rec_bankruptcies: Number of public record bankruptices of borrower. Numerical values.\n",
            "term_months: Number of monthly payments in loan. Numerical values.\n",
            "earliest_cr_line_year: Year that borrower's earliest credit line was opened. Date values.\n",
            "earliest_cr_line_month: Month that borrower's earliest credit line was opened. Date values.\n",
            "Proceeding to chunk\n",
            "Document chunked successfully\n",
            "\n",
            "Chunks uploaded to vector store\n",
            "\n"
          ]
        }
      ],
      "source": [
        "for file in files:\n",
        "  with open(os.path.join(path, file)) as f:\n",
        "    document = f.read()\n",
        "  print(f\"{file} read successfully.\\n{document}Proceeding to chunk\")\n",
        "  text_splitter = RecursiveCharacterTextSplitter(chunk_size=1000, chunk_overlap=200)\n",
        "  chunks = text_splitter.create_documents([document])\n",
        "  print(f\"Document chunked successfully\")\n",
        "  vector_store.add_documents(documents=chunks, namespace = namespace)\n",
        "  print(f\"Chunks uploaded to vector store\\n\")"
      ]
    },
    {
      "cell_type": "code",
      "execution_count": null,
      "metadata": {
        "colab": {
          "base_uri": "https://localhost:8080/"
        },
        "id": "jUfZZjky20sg",
        "outputId": "ef29f564-cbba-40f9-9c83-8ddc3670ecc2"
      },
      "outputs": [
        {
          "data": {
            "text/plain": [
              "{'dimension': 1024,\n",
              " 'index_fullness': 0.0,\n",
              " 'namespaces': {'data-context-docs': {'vector_count': 18}},\n",
              " 'total_vector_count': 18}"
            ]
          },
          "execution_count": 44,
          "metadata": {},
          "output_type": "execute_result"
        }
      ],
      "source": [
        "index.describe_index_stats()"
      ]
    },
    {
      "cell_type": "markdown",
      "metadata": {
        "id": "4T3G2qSt4Jry"
      },
      "source": [
        "## Add global context docs"
      ]
    },
    {
      "cell_type": "code",
      "execution_count": null,
      "metadata": {
        "id": "1qZctNNx4A9t"
      },
      "outputs": [],
      "source": [
        "namespace = \"global-context-docs\""
      ]
    },
    {
      "cell_type": "code",
      "execution_count": null,
      "metadata": {
        "id": "dRDAMxTP0C26"
      },
      "outputs": [],
      "source": [
        "vector_store = PineconeVectorStore(index = index, embedding = embeddings)"
      ]
    },
    {
      "cell_type": "code",
      "execution_count": null,
      "metadata": {
        "colab": {
          "base_uri": "https://localhost:8080/"
        },
        "id": "lVMhGV760GTs",
        "outputId": "0e09e6c0-958e-4076-abdf-e14f255745bb"
      },
      "outputs": [
        {
          "data": {
            "text/plain": [
              "['ch7.pdf',\n",
              " 'iv-1-1.pdf',\n",
              " 'Understanding the Common Reasons for Loan Rejections.pdf',\n",
              " '7 Reasons Why You Were Denied a Personal Loan | LendingTree.pdf']"
            ]
          },
          "execution_count": 18,
          "metadata": {},
          "output_type": "execute_result"
        }
      ],
      "source": [
        "path = \"/content/drive/MyDrive/Capstone/rag_docs/global_context_docs\"\n",
        "files = os.listdir(path)\n",
        "files"
      ]
    },
    {
      "cell_type": "code",
      "execution_count": null,
      "metadata": {
        "id": "_rhJ9eeV0TC-"
      },
      "outputs": [],
      "source": [
        "def create_docs(file_path):\n",
        "  pdf_loader = PyPDFLoader(file_path)\n",
        "  documents = pdf_loader.load()\n",
        "  return documents"
      ]
    },
    {
      "cell_type": "code",
      "execution_count": null,
      "metadata": {
        "id": "56u59f4k0I9y"
      },
      "outputs": [],
      "source": [
        "def chunker(documents, chunk_size = 1000, chunk_overlap = 200):\n",
        "  text_splitter = RecursiveCharacterTextSplitter(chunk_size=chunk_size, chunk_overlap=chunk_overlap)\n",
        "  chunks = text_splitter.split_documents(documents)\n",
        "  return chunks"
      ]
    },
    {
      "cell_type": "code",
      "execution_count": null,
      "metadata": {
        "colab": {
          "base_uri": "https://localhost:8080/"
        },
        "id": "UBRikpVB0rkX",
        "outputId": "4f7984a6-2772-4475-9bc6-dc73ece05919"
      },
      "outputs": [
        {
          "name": "stdout",
          "output_type": "stream",
          "text": [
            "ch7.pdf read successfully.\n",
            "Proceeding to chunk\n",
            "Document chunked successfully\n",
            "Chunks uploaded to vector store\n",
            "\n",
            "iv-1-1.pdf read successfully.\n",
            "Proceeding to chunk\n",
            "Document chunked successfully\n",
            "Chunks uploaded to vector store\n",
            "\n",
            "Understanding the Common Reasons for Loan Rejections.pdf read successfully.\n",
            "Proceeding to chunk\n",
            "Document chunked successfully\n",
            "Chunks uploaded to vector store\n",
            "\n"
          ]
        },
        {
          "name": "stderr",
          "output_type": "stream",
          "text": [
            "WARNING:pypdf._reader:Ignoring wrong pointing object 11 0 (offset 0)\n",
            "WARNING:pypdf._reader:Ignoring wrong pointing object 50 0 (offset 0)\n"
          ]
        },
        {
          "name": "stdout",
          "output_type": "stream",
          "text": [
            "7 Reasons Why You Were Denied a Personal Loan | LendingTree.pdf read successfully.\n",
            "Proceeding to chunk\n",
            "Document chunked successfully\n",
            "Chunks uploaded to vector store\n",
            "\n"
          ]
        }
      ],
      "source": [
        "for file in files:\n",
        "  documents = create_docs(os.path.join(path, file))\n",
        "  print(f\"{file} read successfully.\\nProceeding to chunk\")\n",
        "  chunks = chunker(documents)\n",
        "  print(f\"Document chunked successfully\")\n",
        "  vector_store.add_documents(documents=chunks, namespace = namespace)\n",
        "  print(f\"Chunks uploaded to vector store\\n\")"
      ]
    },
    {
      "cell_type": "code",
      "execution_count": null,
      "metadata": {
        "colab": {
          "base_uri": "https://localhost:8080/"
        },
        "id": "IrMvxf7r1f6V",
        "outputId": "68dc786f-81d7-40a4-d2f9-c3725f1b748d"
      },
      "outputs": [
        {
          "data": {
            "text/plain": [
              "{'dimension': 1024,\n",
              " 'index_fullness': 0.0,\n",
              " 'namespaces': {'data-context-docs': {'vector_count': 18},\n",
              "                'global-context-docs': {'vector_count': 258}},\n",
              " 'total_vector_count': 276}"
            ]
          },
          "execution_count": 23,
          "metadata": {},
          "output_type": "execute_result"
        }
      ],
      "source": [
        "index.describe_index_stats()"
      ]
    },
    {
      "cell_type": "code",
      "execution_count": null,
      "metadata": {
        "id": "6GqeTGGQLs78"
      },
      "outputs": [],
      "source": []
    }
  ],
  "metadata": {
    "colab": {
      "provenance": []
    },
    "kernelspec": {
      "display_name": "Python 3",
      "name": "python3"
    },
    "language_info": {
      "name": "python"
    }
  },
  "nbformat": 4,
  "nbformat_minor": 0
}
