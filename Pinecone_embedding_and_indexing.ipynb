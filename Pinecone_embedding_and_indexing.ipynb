{
  "nbformat": 4,
  "nbformat_minor": 0,
  "metadata": {
    "colab": {
      "provenance": []
    },
    "kernelspec": {
      "name": "python3",
      "display_name": "Python 3"
    },
    "language_info": {
      "name": "python"
    }
  },
  "cells": [
    {
      "cell_type": "code",
      "source": [
        "!pip install pinecone-client openai pypdf langchain langchain-community langchain-openai langchain-pinecone -qU pinecone-notebooks"
      ],
      "metadata": {
        "colab": {
          "base_uri": "https://localhost:8080/"
        },
        "id": "TQcFTQWExdNk",
        "outputId": "32f5d95f-8a94-4402-8c84-c32b5728ed47"
      },
      "execution_count": 42,
      "outputs": [
        {
          "output_type": "stream",
          "name": "stdout",
          "text": [
            "\u001b[2K   \u001b[90m━━━━━━━━━━━━━━━━━━━━━━━━━━━━━━━━━━━━━━━━\u001b[0m \u001b[32m456.1/456.1 kB\u001b[0m \u001b[31m8.7 MB/s\u001b[0m eta \u001b[36m0:00:00\u001b[0m\n",
            "\u001b[2K   \u001b[90m━━━━━━━━━━━━━━━━━━━━━━━━━━━━━━━━━━━━━━━━\u001b[0m \u001b[32m1.3/1.3 MB\u001b[0m \u001b[31m31.8 MB/s\u001b[0m eta \u001b[36m0:00:00\u001b[0m\n",
            "\u001b[?25h\u001b[31mERROR: pip's dependency resolver does not currently take into account all the packages that are installed. This behaviour is the source of the following dependency conflicts.\n",
            "pinecone 5.4.2 requires pinecone-plugin-inference<4.0.0,>=2.0.0, but you have pinecone-plugin-inference 1.1.0 which is incompatible.\u001b[0m\u001b[31m\n",
            "\u001b[0m"
          ]
        }
      ]
    },
    {
      "cell_type": "code",
      "source": [
        "from langchain.document_loaders import PyPDFLoader\n",
        "from langchain.text_splitter import RecursiveCharacterTextSplitter\n",
        "from langchain.embeddings import OpenAIEmbeddings\n",
        "from langchain.vectorstores import Pinecone\n",
        "from langchain_pinecone import PineconeVectorStore\n",
        "import pinecone\n",
        "import os\n",
        "import getpass\n",
        "import time"
      ],
      "metadata": {
        "id": "Dr4uXqil3G7X"
      },
      "execution_count": 46,
      "outputs": []
    },
    {
      "cell_type": "code",
      "source": [
        "pinecone_api = \"api_key\""
      ],
      "metadata": {
        "id": "lv37yx6R3u_B"
      },
      "execution_count": 44,
      "outputs": []
    },
    {
      "cell_type": "code",
      "source": [
        "if not os.getenv(\"PINECONE_API_KEY\"):\n",
        "    os.environ[\"PINECONE_API_KEY\"] = getpass.getpass(\"Enter your Pinecone API key: \")\n",
        "\n",
        "pinecone_api_key = os.environ.get(\"PINECONE_API_KEY\")\n",
        "\n",
        "# pc = Pinecone(api_key=pinecone_api_key)"
      ],
      "metadata": {
        "id": "6Yzj4Uc6-CPF"
      },
      "execution_count": 48,
      "outputs": []
    },
    {
      "cell_type": "code",
      "source": [
        "from pinecone import Pinecone, ServerlessSpec\n",
        "import time\n",
        "\n",
        "pc = Pinecone(api_key=pinecone_api)"
      ],
      "metadata": {
        "id": "wBcEhvsf3260"
      },
      "execution_count": 49,
      "outputs": []
    },
    {
      "cell_type": "code",
      "source": [
        "spec = ServerlessSpec(cloud=\"aws\", region=\"us-east-1\")"
      ],
      "metadata": {
        "id": "ewbtp0E84HEl"
      },
      "execution_count": 50,
      "outputs": []
    },
    {
      "cell_type": "code",
      "source": [
        "index_name = \"rag-test\""
      ],
      "metadata": {
        "id": "RxnsrLht4K4d"
      },
      "execution_count": 51,
      "outputs": []
    },
    {
      "cell_type": "code",
      "source": [
        "pdf_loader = PyPDFLoader(\"3550-1chapter04.pdf\")\n",
        "documents = pdf_loader.load()"
      ],
      "metadata": {
        "id": "Afmh3QB44RSi"
      },
      "execution_count": 53,
      "outputs": []
    },
    {
      "cell_type": "code",
      "source": [
        "# Chunk the document into smaller segments\n",
        "text_splitter = RecursiveCharacterTextSplitter(chunk_size=1000, chunk_overlap=200)\n",
        "chunks = text_splitter.split_documents(documents)"
      ],
      "metadata": {
        "id": "p31mp1sR4fst"
      },
      "execution_count": 54,
      "outputs": []
    },
    {
      "cell_type": "code",
      "source": [
        "from langchain_pinecone import PineconeEmbeddings\n",
        "import os\n",
        "\n",
        "model_name = 'multilingual-e5-large'\n",
        "embeddings = PineconeEmbeddings(\n",
        "    model=model_name,\n",
        "    pinecone_api_key=pinecone_api)"
      ],
      "metadata": {
        "id": "vcppmWsL4gyA"
      },
      "execution_count": 55,
      "outputs": []
    },
    {
      "cell_type": "code",
      "source": [
        "if index_name not in pc.list_indexes().names():\n",
        "    pc.create_index(\n",
        "        name=index_name,\n",
        "        dimension=embeddings.dimension,\n",
        "        metric=\"cosine\",\n",
        "        spec=spec\n",
        "    )\n",
        "    # Wait for index to be ready\n",
        "    while not pc.describe_index(index_name).status['ready']:\n",
        "        time.sleep(1)"
      ],
      "metadata": {
        "id": "v5dLuwjX5Abd"
      },
      "execution_count": 56,
      "outputs": []
    },
    {
      "cell_type": "code",
      "source": [
        "# See that it is empty\n",
        "print(\"Index before upsert:\")\n",
        "print(pc.Index(index_name).describe_index_stats())\n",
        "print(\"\\n\")\n"
      ],
      "metadata": {
        "colab": {
          "base_uri": "https://localhost:8080/"
        },
        "id": "tKPlIakO3uRP",
        "outputId": "3f3474e1-98ff-445e-87c7-79a84fb8c8f5"
      },
      "execution_count": 57,
      "outputs": [
        {
          "output_type": "stream",
          "name": "stdout",
          "text": [
            "Index before upsert:\n",
            "{'dimension': 1024,\n",
            " 'index_fullness': 0.0,\n",
            " 'namespaces': {},\n",
            " 'total_vector_count': 0}\n",
            "\n",
            "\n"
          ]
        }
      ]
    },
    {
      "cell_type": "code",
      "source": [
        "vector_store = PineconeVectorStore(index = pc.Index(index_name), embedding = embeddings)"
      ],
      "metadata": {
        "id": "HAW-E7t16ial"
      },
      "execution_count": 58,
      "outputs": []
    },
    {
      "cell_type": "code",
      "source": [
        "namespace = \"testdoc\""
      ],
      "metadata": {
        "id": "z-5R84xc61OJ"
      },
      "execution_count": 40,
      "outputs": []
    },
    {
      "cell_type": "code",
      "source": [
        "from langchain_core.documents import Document\n",
        "from uuid import uuid4"
      ],
      "metadata": {
        "id": "_uPIDSsA-uX2"
      },
      "execution_count": 59,
      "outputs": []
    },
    {
      "cell_type": "code",
      "source": [
        "vector_store.add_documents(documents=chunks, namespace = namespace)"
      ],
      "metadata": {
        "colab": {
          "base_uri": "https://localhost:8080/"
        },
        "id": "x0kphhNRAruA",
        "outputId": "b897262a-58f9-4f14-ed73-a84c78ddf452"
      },
      "execution_count": 64,
      "outputs": [
        {
          "output_type": "execute_result",
          "data": {
            "text/plain": [
              "['29d7b7d3-f00b-4aae-b7bf-a2001b8780d1',\n",
              " 'c67406a4-920f-48d2-8bd7-b7a474450972',\n",
              " 'bb5acccc-a21a-43d4-851f-05aecd7a3948',\n",
              " '98cab9ef-3b1d-4690-aa4a-957c21fe4096',\n",
              " 'a7a0d3a3-6613-426f-9958-a77c884dce0b',\n",
              " 'd12f6aad-1639-4d0f-a979-699adc0549dd',\n",
              " 'd3ac4fa1-dfa1-4fa2-982e-0b09205b37a1',\n",
              " 'e82af344-f51a-4285-bff1-3ed3263bc64b',\n",
              " 'bd95c998-4ba0-42c6-ae9f-a05ad5ac21aa',\n",
              " '6b7c2376-6558-4351-8968-3f4e2c46ef52',\n",
              " '305682a7-c275-4ab0-a4da-fac3c94e542a',\n",
              " '5e2a9ec8-b017-419d-9a31-baa67199532e',\n",
              " '3641aa1b-fa6b-4923-8367-7100d279b01e',\n",
              " '80561412-07fc-4f45-99c1-9274fe7ee20d',\n",
              " '5aaf0673-ef09-42c1-b04e-37ee5e7d1c80',\n",
              " '37a235a5-7d71-42e1-b767-8322ab92827e',\n",
              " '7f1110d6-ccef-4aee-aea0-ba660a1eb642',\n",
              " '0850cd12-3aba-485d-9709-52ba4e005a94',\n",
              " '9ef23ec5-69f0-4118-93a1-8bcb6eaaa7ab',\n",
              " '3aed6611-aa22-4ba0-ae39-8008301ed78d',\n",
              " '4ea482c9-2cd4-44ff-a154-c96bbc39dcee',\n",
              " '8128a2a8-f882-4572-a8d7-5c9245d398c4',\n",
              " 'cdf9f4d6-ce70-4836-8d56-ede87762b99a',\n",
              " 'ba38bc67-f95e-4c8f-a41f-6c0b0b48160f',\n",
              " '2da63e21-9be4-420c-9509-3f60bd5c1a81',\n",
              " 'b63fcd01-153f-4cde-ac43-84bb618b169d',\n",
              " '65d558aa-71f4-4382-9bb6-7d8e797030d6',\n",
              " '96864d12-9ce6-4eec-8ff7-ed62f6177092',\n",
              " '525972fc-4f0d-4fe6-8c4f-9692a09bf41e',\n",
              " 'b250649e-b0f4-4f90-b3d9-b810fc68aca4',\n",
              " 'bd084f91-6c68-4aa7-bfc7-adcf40425fd3',\n",
              " '0ffb69e7-5ff0-4756-a143-c342de4c5fc4',\n",
              " '157679b7-9dee-47ab-ac8f-4d9a3cf19dfb',\n",
              " 'bf701a56-fe28-423a-892f-f0a3e20dc400',\n",
              " '1bc998e2-c68f-46c3-a4dc-f6323428f1d7',\n",
              " '65893ab6-cf93-4c9a-98c4-ded0bbbe2404',\n",
              " '9ac0e51e-5cc2-4213-99e4-f625dc4d20f7',\n",
              " '65dc60d3-10e9-4dc8-8a7d-4b72b09ca005',\n",
              " '56aad4ca-92a3-4b45-a537-4fb4dab12481',\n",
              " '228937b1-09aa-4912-9c0a-42ff29cf049d',\n",
              " 'e0ad63a7-2028-4be7-b881-dbb2d50375d3',\n",
              " 'ea0294f1-0449-4213-92ec-d2f440dde27c',\n",
              " 'beacd843-c0ed-422d-976c-dfdd44ecb83c',\n",
              " 'd7a95198-2579-483d-aabd-f3e792b833e6',\n",
              " 'f40b0f20-8bdd-432e-8856-6320d29a109b',\n",
              " '61eb7ed5-388f-47dc-97b5-c7069cb01496',\n",
              " '9d1a52b8-2560-4c96-9f0d-5ff2bcd6b188',\n",
              " 'd6bd8793-0f5f-425d-afcb-f463801adfd8',\n",
              " 'c6a720b8-6cc0-4ca3-bcda-e18795dad5a9',\n",
              " '7192eabc-b8e2-449b-933f-a89ff7672ace',\n",
              " '4694651c-2fe9-41e5-8385-fdd8eb2c4070',\n",
              " 'b4c2b1d4-94c9-42b7-938a-e0b5580953e8',\n",
              " 'cdb6b0d5-6234-476b-90af-329b3c784701',\n",
              " '97406b7d-6a51-4d70-bc75-0001ad5dcd12',\n",
              " 'c585ac45-a147-4040-a592-3a315e201c95',\n",
              " 'e9816390-24ec-4879-a64d-4abbd6cc1763',\n",
              " '413246e0-b849-459b-80d1-58437ec37b39',\n",
              " 'b41fb29f-f387-4cca-bd1d-e6415c9f5b02',\n",
              " '38a6249c-f2be-4855-b5f4-2c18147d408b',\n",
              " '53b49970-9452-4f03-a5de-ef8582ff68d1',\n",
              " '46012688-f026-4bb5-a326-147d4c9395eb',\n",
              " '9c6c40fd-6e42-4247-b5fc-12fef9dc2dcd',\n",
              " '91a0317d-e669-4d9c-b073-53a7c9ef82a4',\n",
              " '012df8c4-67f1-4768-adc6-f88a0788bdd3',\n",
              " '9133c4cb-df2c-402d-bf8b-694272c5b3c0',\n",
              " 'b466da6f-519b-462b-b6ed-360465b12d09',\n",
              " 'd96564f7-67d2-4d45-8ba9-36a31f895dd8',\n",
              " '76c29cfa-1997-4531-bab0-945af1682c1f',\n",
              " 'ecdac91d-9146-4b73-bead-09b959ad4bb3',\n",
              " 'ad682a5c-44f1-413f-8ef9-ef0c3f4a554d',\n",
              " 'f331303a-debd-4242-bf14-3831dcbfd2db',\n",
              " 'e68936f8-022a-421b-b925-b21efb42a398',\n",
              " '1d4485c0-9007-457c-92c8-746a6e286a4d',\n",
              " '03d1c4aa-68d1-444d-ad3d-dcf8cd00c5e1',\n",
              " '3900fad0-49ea-401c-a41b-b90801d31cc7',\n",
              " '33c497cc-152d-4aa2-815a-7802f5fca2dc',\n",
              " '4eb027c9-adad-49f5-ba0f-c885573d8d9f',\n",
              " '050fd51d-1e18-4ad6-b6d3-f02c905a9e6b',\n",
              " 'a47ad52a-9f4f-4f8b-9186-01f7d95fb0b7',\n",
              " 'e7b2acab-5454-4c7d-9e9b-f6d9c060306a',\n",
              " '8293a974-06bf-4e8a-96a3-996c28cb1cf3',\n",
              " '3ef48114-067e-47c9-8907-059e1c8bd879',\n",
              " '09dc2521-155c-478d-9ba6-127e4073e02c',\n",
              " '60201393-e9e9-4b63-a767-94b82ee94a9f',\n",
              " '596d221c-a96c-402f-b487-7313b5fed489',\n",
              " 'bb0fb54e-4092-4965-a0cf-a30209a3a41d',\n",
              " '210e0433-258e-4569-bea0-e47bc28f897d',\n",
              " 'acc25848-40e9-48b4-b27b-b20708d49eba',\n",
              " 'a1f3e8d8-a425-4e24-8bbf-b2d6378b20f2',\n",
              " '6e91a1e9-634a-49c6-84ea-01343bea662b',\n",
              " 'a12595a5-75bf-4b66-825b-a09725c84352',\n",
              " '977497f3-3a34-45f2-ad19-ab470d85b9fe',\n",
              " '2b1a7f73-2859-49d8-b213-338900b81e79',\n",
              " 'ec3f1d4f-fd1e-43c9-bcfa-e25d7fd94ff7',\n",
              " '5a0f7447-3fe4-49b8-82f4-1ce8bb2c7e04',\n",
              " 'c8ec5e6f-68c7-486a-a1d0-1d968eb715f8',\n",
              " 'b5ca7b82-9816-4d9d-8d0d-9b16a40500e6',\n",
              " '32ef7c76-ee19-4229-90c1-77a5e7e1cfdb',\n",
              " 'bc0a0077-88fc-4724-8eac-041d1e7ca9e7',\n",
              " 'b59caa01-c567-4fbc-b2e8-ce43d1c2b102',\n",
              " '8c1f4d42-c1ac-40f1-a808-47e0be0e3a49',\n",
              " '42afa8c4-53fe-4260-8f37-4917b83febbd',\n",
              " '355c525c-3513-4f57-8e9e-8ac0decc14d3',\n",
              " '9434d6a7-421a-447d-b6e1-f7aebcc8ed01',\n",
              " '2e7c7900-76aa-48da-af8a-a3c175c4fefa',\n",
              " '763f08ab-e00c-446e-bdeb-74f96316c2d3',\n",
              " '33fe9193-2ab0-4dad-9d0f-34860851d36a',\n",
              " '6b999d31-cca5-4f40-9d4e-04e51a8f7023',\n",
              " '8687f548-f26f-47bd-9ca2-69acc55fbb14',\n",
              " '6ddec09c-0af7-48f1-9f8f-697acbd6a6c2',\n",
              " '53ca9fdc-6b79-4f37-b038-5c36e3b72149',\n",
              " '1dd49a12-14a4-4631-94ea-5f25ae978243',\n",
              " 'b21318d6-73fa-4351-9c1f-bfdc31766a26',\n",
              " '2d7c9a17-fceb-4799-8e74-e343a3dacc16',\n",
              " '7c1f1aab-a016-4ca6-ad78-1a19b0ccbf68',\n",
              " '208f43e3-402d-4b01-b021-7a945acf4713',\n",
              " '64f06042-f2b6-428a-9f76-0a24b72bc8cf',\n",
              " '1f7f7f1d-f7eb-41d3-adfc-e61e78ca9cb8',\n",
              " '9d1b21b4-ae5d-4de9-b4fe-bbda4678a754',\n",
              " 'a1a3fc37-bd4a-451e-8c2c-a8e9acfb21c4',\n",
              " 'bdaedac5-9746-4fb6-8948-def98e09803e',\n",
              " '0d2ce6fa-f172-40b9-a0cc-ef4316eb44a4',\n",
              " '55c97387-0a4a-45b3-9c1f-bbcad0750f8f',\n",
              " 'd23ac5c5-5849-49a2-970c-cf875287c9db',\n",
              " 'b546d84f-85ea-40af-88b9-97c32a9e6ded',\n",
              " 'fb5d6729-b878-4b34-b99b-63e141ddced4',\n",
              " '50fb1edd-4800-421d-a665-f08d8bc006c8',\n",
              " '680ec570-d4e5-47b2-b4cb-e7e1accab985',\n",
              " '7ee1745d-5204-488e-852f-02fd61dee56a',\n",
              " '8450fc9b-a869-49e0-ab6e-592726b95f14',\n",
              " '9706c83c-5d3d-4601-abb7-7c15493c3152',\n",
              " 'f87dbc44-92c1-4637-b897-d72b30063dd3',\n",
              " '9b723ac9-a307-4b2d-945d-e03efc0b38a0',\n",
              " '65acf7dc-6b67-4252-a2cb-25f3c837a631',\n",
              " '20d7aaa8-905c-4dec-9284-7058671f8088',\n",
              " '61ea71f7-0c8d-4e86-a709-de172ceb2042',\n",
              " '590cf09a-fd13-4523-a773-ca4d1807bb32',\n",
              " '98690f1d-a817-49ea-935d-23c0cc22aabc',\n",
              " '2f2547da-4d80-4183-9cf7-f96f67969f4b',\n",
              " '00a323d6-d614-48b1-821b-7ca850b03e23',\n",
              " 'f53e1294-9150-49d9-aa54-318caa3c71a0',\n",
              " '1a505f48-7e0a-40c9-a5e3-2d3fec96fbae',\n",
              " 'b52857d1-aa5d-457d-a54a-6fb2567d62c9',\n",
              " 'c6c6bab1-defb-4c36-b01f-fddd698052d6',\n",
              " '98735d3b-c852-4ebe-988b-df5d576a693d',\n",
              " '71b5fb90-9091-4a32-a70f-065cb5b670eb',\n",
              " '05707136-08b0-4ab8-9f58-ed35af47d870',\n",
              " '58b22e68-1e6f-4e37-90e5-9ff56e4a76d5',\n",
              " 'e5c89530-e1be-4cc0-ab96-96e6ab3d2c9d',\n",
              " 'dae63835-31be-48eb-abdd-3d9a298f22cf',\n",
              " '7a9f842d-1e72-4e51-abc2-e986ffb94103',\n",
              " '153659fb-ee4b-497a-a089-b8962909fde8',\n",
              " 'd37bffce-5847-449e-b95a-129dbe0e2561',\n",
              " '8315f4aa-3d98-484f-98a3-7d3655f8f4ac',\n",
              " 'f33eba4c-cb2f-4d4f-aa51-3c9783fd0e50',\n",
              " 'b222bd52-3ec4-4b87-b0b1-e84c7fd31e14',\n",
              " '75bc4d23-a766-4458-b747-c54adf95e5e1',\n",
              " '80c70fb6-d078-4272-96dd-6116fe90dd98',\n",
              " '9d709387-e524-4aed-bb50-30e099acfe1e',\n",
              " '26e69e84-d32f-40e7-9dd0-0a018f4d6502',\n",
              " '9d6dbc7a-42cb-414e-a7b2-bde594ec7be9',\n",
              " '5404ad95-f77d-47a9-8ab0-6cf10c3103d4',\n",
              " 'b19b0c35-dfed-43bb-bb9e-386f022462b9',\n",
              " 'c544bf84-c201-483e-969e-b9ed18104562',\n",
              " '781bdb2d-303a-480c-a6dd-3251b3cc7f42',\n",
              " '672fa64e-efc9-4fe0-9dc3-4ced58587847',\n",
              " 'ce1543e3-15cc-4ef7-ae7b-14ac0fbab956',\n",
              " '1f8b5cf6-0634-42bc-990d-cbf6cd4194b6',\n",
              " 'ba3cfe19-f7b5-48d5-b823-bcf4d69e8023',\n",
              " 'ff805483-9390-4c4b-acbb-da4dcae221b6',\n",
              " '2b3c0fb0-1837-43c5-8757-15112d9df8d1',\n",
              " '27b3e2d2-da9a-46a2-ac6e-44497809fb17',\n",
              " '876b60f6-12f3-4c3f-aca8-e9804956405e',\n",
              " '7ba45331-3aa1-48f9-8ae6-8ebb34765c90',\n",
              " 'e0fed62a-60de-4b97-b265-da36e96f7884',\n",
              " '11db806f-cc8d-49b4-ae17-d1d062180082',\n",
              " '94a310f4-0e89-462c-9498-56a552ebf2a8',\n",
              " '0b5c00f0-1b32-4e78-adc2-be16e441d81b',\n",
              " '22e431a9-e907-423e-a21a-fad6501397a1',\n",
              " 'c8c9491a-bcdc-4807-85ee-8858b4dd8ec7',\n",
              " '3507bfd4-7fc3-49ad-a23b-5b335be38cc6',\n",
              " '0c6343fa-7d7e-4f91-ba87-d54239e5ff4f',\n",
              " '1be5f301-90cb-4cb2-a8b5-4f900b904ddc',\n",
              " '5e9aa79a-a363-41eb-9148-b753fe2be55c',\n",
              " 'ea6eb344-5678-4f65-8e28-2b39456eed1f',\n",
              " 'de13e783-691f-499d-93dd-a67751753652',\n",
              " '6899c305-51a4-48f4-aee0-9026bcc7aeb5',\n",
              " '98de443f-7c5a-4c2e-8831-f32e4103cc2e',\n",
              " 'bb217447-165c-459d-bd0d-d30197207df8',\n",
              " 'e1b262bf-0ead-436f-83ea-ae0eadda5ae2',\n",
              " '918e791d-cfbe-42cd-8420-6fd6e173cccf',\n",
              " '5e920bb6-4c44-4aad-9c7b-4d571fbcdf3c',\n",
              " '92369de5-30dc-4dce-a1a8-1ce3b0da456e',\n",
              " '9be8ab1a-2da2-4989-a70c-51106f29b19f',\n",
              " 'c1d01fe4-a64a-4b4b-af04-3a56c43b2c28',\n",
              " '6aefb9c3-4499-494a-bb59-a87aa2b1e452',\n",
              " '9df8567f-cc26-4e9b-a4a0-3025f1836f00',\n",
              " 'cc2c2770-9b47-494d-9b5e-1a3be2bd77a4',\n",
              " '54599d82-49ac-4568-8600-4078a5fc8f64',\n",
              " '3b27071e-f47d-4f6e-ab7e-df8112c8a641',\n",
              " 'afd2aa13-9703-4851-a0d3-21edc41850b2',\n",
              " '0f7fad96-a20d-466e-9e55-eb6dabec61ca',\n",
              " '0bf79503-cec8-4b16-a0da-c1b54effd29f',\n",
              " 'eccc9eb0-e7ed-4c41-9d1f-7fdeae77c943',\n",
              " 'b60c3511-7382-40ee-9360-4c2527c0821a',\n",
              " '2d9f9fe8-a903-48a2-b807-7acf0cbcfa7c',\n",
              " 'aeeac02a-ad96-4fb1-9baa-a6e32b0f352f',\n",
              " '24fa968a-0800-4531-b26b-52ecf5dc89a6',\n",
              " 'ab954779-649f-423c-b548-61be7e43ffdf',\n",
              " 'd087b137-1024-4376-bf56-ea98970e5d06',\n",
              " 'dc4f1b72-4e0e-490d-813d-321de02b5104',\n",
              " '928cc71d-6221-4950-b183-236dda9bfc5a',\n",
              " '35476d33-1ab8-4cdc-9b3b-fc11f212e2ee',\n",
              " 'f6b2089c-43a7-4c84-9625-9e4228223c34',\n",
              " '83da57ed-f7aa-4bbb-958c-8d9b2fa14e5f',\n",
              " '066fe218-3f6b-4edd-8b9b-3c2e48526be8',\n",
              " 'bdc2b136-9c1b-4481-9b8e-c5c1776fb01d',\n",
              " 'bb65f3be-6f77-47fb-acc6-837ba9595644',\n",
              " 'ad2d3698-d12c-4a50-b931-4d6f9c3a9f18',\n",
              " '56fce6a7-81ab-4ed8-88f7-9e93c6a66434',\n",
              " 'bb0a2d50-148f-41c1-9104-ab14948e17f9',\n",
              " 'b2575baf-c574-478b-b830-2bcc6294edd6',\n",
              " 'fe08cfcd-b7f3-4a0a-9b1f-fb55f4818bed',\n",
              " '5039608f-81b3-4004-927f-8264e1a8704c',\n",
              " '0803da1a-df54-407c-9867-ca7911d0350f',\n",
              " 'a49c7361-4bbc-4895-9b54-685df05c3d6d',\n",
              " '323f9dca-b9f0-418a-9df4-c935462c3872',\n",
              " '59f8248d-c6ce-4743-8d99-943605cd934e',\n",
              " 'b6874832-72eb-4de4-b81f-d2e9062b097f',\n",
              " '4b40a13e-6754-41a7-a9ea-fc5f62acb1b2',\n",
              " '9b2d0105-42d4-47e7-80ed-9cb7546afb72',\n",
              " '55bf27d9-72f1-4513-95e8-4a017c0a5e39',\n",
              " 'ba429e70-992f-4115-9bc4-2e23b398136f',\n",
              " 'd6675e1b-5b88-48f0-8609-a40ae2b1283e',\n",
              " 'a45bb2e9-d6ff-459d-9049-77be308f5127',\n",
              " '0f67574c-29a6-4a1b-8bed-4c56a228552d',\n",
              " '7914f05d-092f-466f-8b54-b8d5e16fa971',\n",
              " '43addf72-d897-4b4f-830f-2a281c98c9c7',\n",
              " '9b29601e-c579-45ee-bffb-ab13f1b99a96',\n",
              " 'f910605e-74be-40fd-8495-d1765e5e27e6',\n",
              " 'd102ccc4-92ae-4740-998b-d1d8a3be564d',\n",
              " 'a44346ac-3704-4119-b7d5-7350f8317144',\n",
              " '2267229f-5e7a-4e1d-a7ec-2717c6c2f40e',\n",
              " '123296a3-5014-4c1b-9b68-5eacc79c9159',\n",
              " '229d3a08-a44e-4c15-8cab-d74788c1d982',\n",
              " 'e33b4bcd-04bd-40a5-b668-7019be608c25',\n",
              " '62afcb1b-2b36-4e40-9843-a12376d26f3f',\n",
              " '1a41cb2a-00c3-4f7a-8144-aa41ce1f520b']"
            ]
          },
          "metadata": {},
          "execution_count": 64
        }
      ]
    },
    {
      "cell_type": "code",
      "source": [
        "print(\"Index after upsert:\")\n",
        "print(pc.Index(index_name).describe_index_stats())\n",
        "print(\"\\n\")\n",
        "time.sleep(2)\n"
      ],
      "metadata": {
        "colab": {
          "base_uri": "https://localhost:8080/"
        },
        "id": "SuqRkL7b3dVN",
        "outputId": "d5b25708-4430-4f01-f1c0-6a45a90e5501"
      },
      "execution_count": 65,
      "outputs": [
        {
          "output_type": "stream",
          "name": "stdout",
          "text": [
            "Index after upsert:\n",
            "{'dimension': 1024,\n",
            " 'index_fullness': 0.0,\n",
            " 'namespaces': {'': {'vector_count': 248}},\n",
            " 'total_vector_count': 248}\n",
            "\n",
            "\n"
          ]
        }
      ]
    },
    {
      "cell_type": "code",
      "source": [],
      "metadata": {
        "id": "80JTNOjt5HpV"
      },
      "execution_count": null,
      "outputs": []
    }
  ]
}